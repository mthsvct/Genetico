{
 "cells": [
  {
   "cell_type": "code",
   "execution_count": 1,
   "metadata": {},
   "outputs": [],
   "source": [
    "import random\n",
    "import string\n",
    "from enchant.utils import levenshtein # Calcular distancia entre strings"
   ]
  },
  {
   "cell_type": "code",
   "execution_count": 2,
   "metadata": {},
   "outputs": [],
   "source": [
    "modelo = 'Mais uma tentativa esparrapada'"
   ]
  },
  {
   "cell_type": "code",
   "execution_count": 3,
   "metadata": {},
   "outputs": [],
   "source": [
    "cars = string.ascii_letters+string.digits+\" \""
   ]
  },
  {
   "cell_type": "code",
   "execution_count": 4,
   "metadata": {},
   "outputs": [],
   "source": [
    "def populacao(tam, tam2=10, cars=cars):\n",
    "    return [(''.join([random.choice(cars) for _ in range(tam)]), 0.0) for _ in range(tam2)]"
   ]
  },
  {
   "cell_type": "code",
   "execution_count": 5,
   "metadata": {},
   "outputs": [],
   "source": [
    "pop = populacao(len(modelo))"
   ]
  },
  {
   "cell_type": "code",
   "execution_count": 11,
   "metadata": {},
   "outputs": [
    {
     "data": {
      "text/plain": [
       "[('hYjO3EkMHj7ZYDcXriad68YoG00XYw', 0.0),\n",
       " ('8IBuVHidZVAsjchU0wpVEcsSFTScH7', 0.0),\n",
       " ('9eHpUnwQI0ynZcPFmMI4nKFW6nQcO5', 3.3333333333333335),\n",
       " ('c9l1fhzpXOwhWXGgygyxNUcPbtaCcn', 0.0),\n",
       " ('WavAhzfguFLi GQieQfMgk2caqQE93', 6.666666666666667),\n",
       " ('MrSPzf7CltgnpRgchCQGHuVeXVzykp', 10.0),\n",
       " ('Vzwe1iLazno7vm8DWNhxvF2r3AQuL9', 6.666666666666667),\n",
       " ('kzgrfOdXVxcpZOGl6L8eoPzm7 P4fc', 3.3333333333333335),\n",
       " ('YP19Vuh5FS eFz3asAX7Ntj1tbPfFM', 3.3333333333333335),\n",
       " ('q49IfJzJygE90vqj JVBH9W7FjbnGV', 0.0)]"
      ]
     },
     "execution_count": 11,
     "metadata": {},
     "output_type": "execute_result"
    }
   ],
   "source": [
    "b = [(i[0], ((len(modelo)-levenshtein(i[0], modelo)) / len(modelo))*100) for i in pop]\n",
    "b"
   ]
  },
  {
   "cell_type": "code",
   "execution_count": 7,
   "metadata": {},
   "outputs": [
    {
     "data": {
      "text/plain": [
       "24.0"
      ]
     },
     "execution_count": 7,
     "metadata": {},
     "output_type": "execute_result"
    }
   ],
   "source": [
    "(len(modelo) / 100) * 80 # 80% do tamanho do modelo"
   ]
  },
  {
   "cell_type": "code",
   "execution_count": 8,
   "metadata": {},
   "outputs": [
    {
     "data": {
      "text/plain": [
       "3.3333333333333335"
      ]
     },
     "execution_count": 8,
     "metadata": {},
     "output_type": "execute_result"
    }
   ],
   "source": [
    "(1 / len(modelo)) * 100 # 20% do tamanho do modelo"
   ]
  },
  {
   "cell_type": "code",
   "execution_count": 12,
   "metadata": {},
   "outputs": [],
   "source": [
    "# Se houver algum individuo que possua um score maior ou igual a 80, \n",
    "# ele é o resultado\n",
    "# Condição de parada do algoritmo.\n",
    "for i in b:\n",
    "    if i[1] >= 80:\n",
    "        print(i)"
   ]
  }
 ],
 "metadata": {
  "kernelspec": {
   "display_name": "Python 3",
   "language": "python",
   "name": "python3"
  },
  "language_info": {
   "codemirror_mode": {
    "name": "ipython",
    "version": 3
   },
   "file_extension": ".py",
   "mimetype": "text/x-python",
   "name": "python",
   "nbconvert_exporter": "python",
   "pygments_lexer": "ipython3",
   "version": "3.8.10"
  },
  "orig_nbformat": 4
 },
 "nbformat": 4,
 "nbformat_minor": 2
}
