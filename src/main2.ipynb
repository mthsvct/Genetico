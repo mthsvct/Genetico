{
 "cells": [
  {
   "cell_type": "code",
   "execution_count": 1,
   "metadata": {},
   "outputs": [],
   "source": [
    "from populacao import Populacao\n",
    "from genetico import Genetico"
   ]
  },
  {
   "attachments": {},
   "cell_type": "markdown",
   "metadata": {},
   "source": [
    "# População"
   ]
  },
  {
   "cell_type": "code",
   "execution_count": 2,
   "metadata": {},
   "outputs": [],
   "source": [
    "# a = Populacao(\"testestetsaaa\", tamanho=100)"
   ]
  },
  {
   "cell_type": "code",
   "execution_count": 3,
   "metadata": {},
   "outputs": [],
   "source": [
    "# a.cria()"
   ]
  },
  {
   "cell_type": "code",
   "execution_count": 4,
   "metadata": {},
   "outputs": [],
   "source": [
    "# a.zerado() == a.tamanho"
   ]
  },
  {
   "cell_type": "code",
   "execution_count": 5,
   "metadata": {},
   "outputs": [],
   "source": [
    "# a.qntZero()"
   ]
  },
  {
   "cell_type": "code",
   "execution_count": 6,
   "metadata": {},
   "outputs": [],
   "source": [
    "# len(a.ranking)"
   ]
  },
  {
   "attachments": {},
   "cell_type": "markdown",
   "metadata": {},
   "source": [
    "# Algoritmo Genético"
   ]
  },
  {
   "cell_type": "code",
   "execution_count": 7,
   "metadata": {},
   "outputs": [],
   "source": [
    "gen = Genetico(\"That '70s Show\", tamanho=15)"
   ]
  },
  {
   "cell_type": "code",
   "execution_count": 8,
   "metadata": {},
   "outputs": [
    {
     "name": "stdout",
     "output_type": "stream",
     "text": [
      "14.285714285714285\n",
      "Geracao 1 - Melhor individuo: \" ]cor^p0pN!hB<\" - 14.285714285714285%\n",
      "Geracao 2 - Melhor individuo: \"n\"cor^p0pN!hB<\" - 14.285714285714285%\n",
      "Geracao 3 - Melhor individuo: \"T:_or^p0pN!hB<\" - 21.428571428571427%\n",
      "Geracao 4 - Melhor individuo: \"T:_or^p0pN!hB<\" - 21.428571428571427%\n",
      "Geracao 5 - Melhor individuo: \"T:_or^p0pN!hB<\" - 21.428571428571427%\n"
     ]
    }
   ],
   "source": [
    "gen.run()"
   ]
  },
  {
   "cell_type": "code",
   "execution_count": 9,
   "metadata": {},
   "outputs": [
    {
     "data": {
      "text/plain": [
       "15"
      ]
     },
     "execution_count": 9,
     "metadata": {},
     "output_type": "execute_result"
    }
   ],
   "source": [
    "gen.geracoes[0].tamanho"
   ]
  },
  {
   "cell_type": "code",
   "execution_count": 10,
   "metadata": {},
   "outputs": [
    {
     "data": {
      "text/plain": [
       "[{'plv': ' ]cor^p0pN!hB<', 'pctg': 14.285714285714285},\n",
       " {'plv': 'lZ[`Aa/5&^ h3F', 'pctg': 7.142857142857142},\n",
       " {'plv': \"O&)aC'fW{=n^I`\", 'pctg': 7.142857142857142},\n",
       " {'plv': 'T:mQ/#Y\\\\`|;Hy!', 'pctg': 7.142857142857142},\n",
       " {'plv': '+d_Y\\\\ `q]|GQh+', 'pctg': 7.142857142857142},\n",
       " {'plv': '1RSt]d!<XrG*1V', 'pctg': 7.142857142857142},\n",
       " {'plv': '$~*oHKYk:dTu0w', 'pctg': 7.142857142857142},\n",
       " {'plv': '}(AI\"tT `6Y3o1', 'pctg': 7.142857142857142},\n",
       " {'plv': 'n\"9*e<$0&eC+ms', 'pctg': 7.142857142857142},\n",
       " {'plv': 'gr@y +,e!dK~x$', 'pctg': 7.142857142857142},\n",
       " {'plv': 'z3Vujn;YS.(`og', 'pctg': 7.142857142857142},\n",
       " {'plv': 'L84A\\\\{=0)m>?6M', 'pctg': 7.142857142857142},\n",
       " {'plv': \"9RN%CRrbe:'=oC\", 'pctg': 7.142857142857142},\n",
       " {'plv': 'g{l]Jui0?J:F$(', 'pctg': 7.142857142857142},\n",
       " {'plv': '+|L%t6Dtc<2Qh{', 'pctg': 7.142857142857142}]"
      ]
     },
     "execution_count": 10,
     "metadata": {},
     "output_type": "execute_result"
    }
   ],
   "source": [
    "gen.geracoes[0].individuos"
   ]
  },
  {
   "cell_type": "code",
   "execution_count": 11,
   "metadata": {},
   "outputs": [],
   "source": [
    "gen.selecao()"
   ]
  },
  {
   "cell_type": "code",
   "execution_count": 12,
   "metadata": {},
   "outputs": [
    {
     "data": {
      "text/plain": [
       "8"
      ]
     },
     "execution_count": 12,
     "metadata": {},
     "output_type": "execute_result"
    }
   ],
   "source": [
    "len(gen.geracoes[-1].casais)"
   ]
  },
  {
   "cell_type": "code",
   "execution_count": 13,
   "metadata": {},
   "outputs": [],
   "source": [
    "gen.crossover()"
   ]
  },
  {
   "cell_type": "code",
   "execution_count": 14,
   "metadata": {},
   "outputs": [
    {
     "data": {
      "text/plain": [
       "[{'plv': ' ]cor^p0pN!hB<', 'pctg': 14.285714285714285},\n",
       " {'plv': 'lZ[`Aa/5&^ h3F', 'pctg': 7.142857142857142},\n",
       " {'plv': \"O&)aC'fW{=n^I`\", 'pctg': 7.142857142857142},\n",
       " {'plv': 'T:mQ/#Y\\\\`|;Hy!', 'pctg': 7.142857142857142},\n",
       " {'plv': '+d_Y\\\\ `q]|GQh+', 'pctg': 7.142857142857142},\n",
       " {'plv': '1RSt]d!<XrG*1V', 'pctg': 7.142857142857142},\n",
       " {'plv': '$~*oHKYk:dTu0w', 'pctg': 7.142857142857142},\n",
       " {'plv': '}(AI\"tT `6Y3o1', 'pctg': 7.142857142857142},\n",
       " {'plv': 'n\"9*e<$0&eC+ms', 'pctg': 7.142857142857142},\n",
       " {'plv': 'gr@y +,e!dK~x$', 'pctg': 7.142857142857142},\n",
       " {'plv': 'z3Vujn;YS.(`og', 'pctg': 7.142857142857142},\n",
       " {'plv': 'L84A\\\\{=0)m>?6M', 'pctg': 7.142857142857142},\n",
       " {'plv': \"9RN%CRrbe:'=oC\", 'pctg': 7.142857142857142},\n",
       " {'plv': 'g{l]Jui0?J:F$(', 'pctg': 7.142857142857142},\n",
       " {'plv': '+|L%t6Dtc<2Qh{', 'pctg': 7.142857142857142}]"
      ]
     },
     "execution_count": 14,
     "metadata": {},
     "output_type": "execute_result"
    }
   ],
   "source": [
    "gen.geracoes[0].individuos"
   ]
  },
  {
   "cell_type": "code",
   "execution_count": 15,
   "metadata": {},
   "outputs": [
    {
     "data": {
      "text/plain": [
       "[{'plv': 'T:_or^p0pN!hB<', 'pctg': 21.428571428571427},\n",
       " {'plv': 'T:_or^p0pN!hB<', 'pctg': 21.428571428571427},\n",
       " {'plv': 'T:_or^p0pN!hB<', 'pctg': 21.428571428571427},\n",
       " {'plv': 'T:_or^p0pN!hB<', 'pctg': 21.428571428571427},\n",
       " {'plv': 'T:_or^p0pN!hB<', 'pctg': 21.428571428571427},\n",
       " {'plv': 'T:_or^p0pN!hB<', 'pctg': 21.428571428571427},\n",
       " {'plv': 'T:_or^p0pN!hB<', 'pctg': 21.428571428571427},\n",
       " {'plv': 'T:_or^p0pN!hB<', 'pctg': 21.428571428571427},\n",
       " {'plv': 'T:_or^p0pN!hB<', 'pctg': 21.428571428571427},\n",
       " {'plv': 'T:_or^p0pN!hB<', 'pctg': 21.428571428571427},\n",
       " {'plv': 'T:_or^p0pN!hB<', 'pctg': 21.428571428571427},\n",
       " {'plv': 'T:_or^p0pN!hB<', 'pctg': 21.428571428571427},\n",
       " {'plv': 'T:_or^p0pN!hB<', 'pctg': 21.428571428571427},\n",
       " {'plv': 'T:_or^p0pN!hB<', 'pctg': 21.428571428571427},\n",
       " {'plv': 'T:_or^p0pN!hB<', 'pctg': 21.428571428571427}]"
      ]
     },
     "execution_count": 15,
     "metadata": {},
     "output_type": "execute_result"
    }
   ],
   "source": [
    "gen.geracoes[-1].individuos"
   ]
  }
 ],
 "metadata": {
  "kernelspec": {
   "display_name": "Python 3",
   "language": "python",
   "name": "python3"
  },
  "language_info": {
   "codemirror_mode": {
    "name": "ipython",
    "version": 3
   },
   "file_extension": ".py",
   "mimetype": "text/x-python",
   "name": "python",
   "nbconvert_exporter": "python",
   "pygments_lexer": "ipython3",
   "version": "3.8.10"
  },
  "orig_nbformat": 4
 },
 "nbformat": 4,
 "nbformat_minor": 2
}
