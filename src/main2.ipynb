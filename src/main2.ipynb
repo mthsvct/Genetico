{
 "cells": [
  {
   "cell_type": "code",
   "execution_count": 1,
   "metadata": {},
   "outputs": [],
   "source": [
    "from populacao import Populacao\n",
    "from genetico import Genetico"
   ]
  },
  {
   "attachments": {},
   "cell_type": "markdown",
   "metadata": {},
   "source": [
    "# População"
   ]
  },
  {
   "cell_type": "code",
   "execution_count": 2,
   "metadata": {},
   "outputs": [],
   "source": [
    "a = Populacao(\"testestetsaaa\")"
   ]
  },
  {
   "cell_type": "code",
   "execution_count": 3,
   "metadata": {},
   "outputs": [],
   "source": [
    "a.cria()"
   ]
  },
  {
   "cell_type": "code",
   "execution_count": 4,
   "metadata": {},
   "outputs": [
    {
     "data": {
      "text/plain": [
       "[{'plv': '\"56Z>%Tias23~', 'pctg': 7.6923076923076925},\n",
       " {'plv': 'xR6tPq^~Szo:n', 'pctg': 7.6923076923076925},\n",
       " {'plv': 'htm{cKsv>?8BB', 'pctg': 7.6923076923076925},\n",
       " {'plv': 'WL|AeO&MN&mXn', 'pctg': 7.6923076923076925},\n",
       " {'plv': '4mPgE_ZHfs9lV', 'pctg': 7.6923076923076925},\n",
       " {'plv': \"*n}Ef9'jt<keV\", 'pctg': 7.6923076923076925},\n",
       " {'plv': 'tIIZ2\"p<2b0X|', 'pctg': 7.6923076923076925},\n",
       " {'plv': 'z6E](hsehclI ', 'pctg': 7.6923076923076925},\n",
       " {'plv': '/^s#MORymyjo+', 'pctg': 7.6923076923076925},\n",
       " {'plv': \"/-at'u7f8_pQO\", 'pctg': 7.6923076923076925}]"
      ]
     },
     "execution_count": 4,
     "metadata": {},
     "output_type": "execute_result"
    }
   ],
   "source": [
    "a.individuos"
   ]
  },
  {
   "cell_type": "code",
   "execution_count": 5,
   "metadata": {},
   "outputs": [
    {
     "data": {
      "text/plain": [
       "False"
      ]
     },
     "execution_count": 5,
     "metadata": {},
     "output_type": "execute_result"
    }
   ],
   "source": [
    "a.zerado() == a.tamanho"
   ]
  },
  {
   "cell_type": "code",
   "execution_count": 6,
   "metadata": {},
   "outputs": [
    {
     "data": {
      "text/plain": [
       "0"
      ]
     },
     "execution_count": 6,
     "metadata": {},
     "output_type": "execute_result"
    }
   ],
   "source": [
    "a.qntZero()"
   ]
  },
  {
   "cell_type": "code",
   "execution_count": 7,
   "metadata": {},
   "outputs": [
    {
     "data": {
      "text/plain": [
       "70"
      ]
     },
     "execution_count": 7,
     "metadata": {},
     "output_type": "execute_result"
    }
   ],
   "source": [
    "len(a.ranking)"
   ]
  },
  {
   "attachments": {},
   "cell_type": "markdown",
   "metadata": {},
   "source": [
    "# Algoritmo Genético"
   ]
  },
  {
   "cell_type": "code",
   "execution_count": 8,
   "metadata": {},
   "outputs": [],
   "source": [
    "gen = Genetico(\"Teste\")"
   ]
  },
  {
   "cell_type": "code",
   "execution_count": 9,
   "metadata": {},
   "outputs": [],
   "source": [
    "gen.run()"
   ]
  },
  {
   "cell_type": "code",
   "execution_count": 15,
   "metadata": {},
   "outputs": [
    {
     "data": {
      "text/plain": [
       "[{'plv': '\"56Z>%Tias23~', 'pctg': 7.6923076923076925},\n",
       " {'plv': 'xR6tPq^~Szo:n', 'pctg': 7.6923076923076925},\n",
       " {'plv': 'htm{cKsv>?8BB', 'pctg': 7.6923076923076925},\n",
       " {'plv': 'WL|AeO&MN&mXn', 'pctg': 7.6923076923076925},\n",
       " {'plv': '4mPgE_ZHfs9lV', 'pctg': 7.6923076923076925},\n",
       " {'plv': \"*n}Ef9'jt<keV\", 'pctg': 7.6923076923076925},\n",
       " {'plv': 'tIIZ2\"p<2b0X|', 'pctg': 7.6923076923076925},\n",
       " {'plv': 'z6E](hsehclI ', 'pctg': 7.6923076923076925},\n",
       " {'plv': '/^s#MORymyjo+', 'pctg': 7.6923076923076925},\n",
       " {'plv': \"/-at'u7f8_pQO\", 'pctg': 7.6923076923076925}]"
      ]
     },
     "execution_count": 15,
     "metadata": {},
     "output_type": "execute_result"
    }
   ],
   "source": [
    "gen.geracoes[0].individuos"
   ]
  }
 ],
 "metadata": {
  "kernelspec": {
   "display_name": "Python 3",
   "language": "python",
   "name": "python3"
  },
  "language_info": {
   "codemirror_mode": {
    "name": "ipython",
    "version": 3
   },
   "file_extension": ".py",
   "mimetype": "text/x-python",
   "name": "python",
   "nbconvert_exporter": "python",
   "pygments_lexer": "ipython3",
   "version": "3.8.10"
  },
  "orig_nbformat": 4
 },
 "nbformat": 4,
 "nbformat_minor": 2
}
